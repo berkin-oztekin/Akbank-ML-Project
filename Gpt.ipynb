{
 "cells": [
  {
   "cell_type": "code",
   "execution_count": null,
   "metadata": {},
   "outputs": [],
   "source": [
    "import openai\n",
    "\n",
    "# OpenAI API anahtarınızı burada ayarlayın\n",
    "openai.api_key = ''\n",
    "\n",
    "def gpt3_chat(prompt):\n",
    "    response = openai.ChatCompletion.create(\n",
    "        model=\"gpt-3.5-turbo\",  # Yeni model adı\n",
    "        messages=[\n",
    "            {\"role\": \"system\", \"content\": \"You are a helpful assistant.\"},\n",
    "            {\"role\": \"user\", \"content\": prompt}\n",
    "        ]\n",
    "    )\n",
    "    return response.choices[0].message['content'].strip()\n",
    "\n",
    "def main():\n",
    "    print(\"OpenAI GPT-3 Chatbot'a Hoşgeldiniz! (Çıkmak için 'exit' yazın)\")\n",
    "    while True:\n",
    "        user_input = input(\"Siz: \")\n",
    "        if user_input.lower() == 'exit':\n",
    "            print(\"Görüşmek üzere!\")\n",
    "            break\n",
    "\n",
    "        response = gpt3_chat(user_input)\n",
    "        print(\"GPT-3: \" + response)\n",
    "\n",
    "if __name__ == \"__main__\":\n",
    "    main()\n"
   ]
  },
  {
   "cell_type": "markdown",
   "metadata": {},
   "source": []
  },
  {
   "cell_type": "code",
   "execution_count": 8,
   "metadata": {},
   "outputs": [
    {
     "ename": "ModuleNotFoundError",
     "evalue": "No module named 'ratelimit'",
     "output_type": "error",
     "traceback": [
      "\u001b[1;31m---------------------------------------------------------------------------\u001b[0m",
      "\u001b[1;31mModuleNotFoundError\u001b[0m                       Traceback (most recent call last)",
      "Cell \u001b[1;32mIn[8], line 4\u001b[0m\n\u001b[0;32m      2\u001b[0m \u001b[38;5;28;01mimport\u001b[39;00m \u001b[38;5;21;01mos\u001b[39;00m\n\u001b[0;32m      3\u001b[0m \u001b[38;5;28;01mimport\u001b[39;00m \u001b[38;5;21;01mtime\u001b[39;00m\n\u001b[1;32m----> 4\u001b[0m \u001b[38;5;28;01mfrom\u001b[39;00m \u001b[38;5;21;01mratelimit\u001b[39;00m \u001b[38;5;28;01mimport\u001b[39;00m limits, sleep_and_retry\n\u001b[0;32m      6\u001b[0m \u001b[38;5;66;03m# OpenAI API anahtarınızı çevre değişkeninden alın\u001b[39;00m\n\u001b[0;32m      7\u001b[0m openai\u001b[38;5;241m.\u001b[39mapi_key \u001b[38;5;241m=\u001b[39m os\u001b[38;5;241m.\u001b[39mgetenv(\u001b[38;5;124m'\u001b[39m\u001b[38;5;124mOPENAI_API_KEY\u001b[39m\u001b[38;5;124m'\u001b[39m)\n",
      "\u001b[1;31mModuleNotFoundError\u001b[0m: No module named 'ratelimit'"
     ]
    }
   ],
   "source": [
    "import openai\n",
    "import os\n",
    "import time\n",
    "from ratelimit import limits, sleep_and_retry\n",
    "\n",
    "# OpenAI API anahtarınızı çevre değişkeninden alın\n",
    "openai.api_key = os.getenv('OPENAI_API_KEY')\n",
    "\n",
    "# Rate limitlerinizi burada ayarlayın\n",
    "# Örneğin: Dakikada 60 istek\n",
    "RATE_LIMIT = 60\n",
    "PERIOD = 60  # saniye\n",
    "\n",
    "@sleep_and_retry\n",
    "@limits(calls=RATE_LIMIT, period=PERIOD)\n",
    "def gpt3_chat(prompt):\n",
    "    try:\n",
    "        response = openai.ChatCompletion.create(\n",
    "            model=\"gpt-3.5-turbo\",  # En düşük maliyetli model\n",
    "            messages=[\n",
    "                {\"role\": \"system\", \"content\": \"You are a helpful assistant.\"},\n",
    "                {\"role\": \"user\", \"content\": prompt}\n",
    "            ]\n",
    "        )\n",
    "        return response.choices[0].message['content'].strip()\n",
    "    except openai.error.RateLimitError as e:\n",
    "        print(f\"Rate limit error: {e}\")\n",
    "        time.sleep(60)  # Rate limit hatası durumunda 1 dakika bekle\n",
    "        return \"Rate limit exceeded. Please try again later.\"\n",
    "    except openai.error.OpenAIError as e:\n",
    "        print(f\"OpenAI error: {e}\")\n",
    "        return \"An error occurred with the OpenAI API.\"\n",
    "    except Exception as e:\n",
    "        print(f\"Unexpected error: {e}\")\n",
    "        return \"An unexpected error occurred.\"\n",
    "\n",
    "def main():\n",
    "    print(\"OpenAI GPT-3 Chatbot'a Hoşgeldiniz! (Çıkmak için 'exit' yazın)\")\n",
    "    while True:\n",
    "        user_input = input(\"Siz: \")\n",
    "        if user_input.lower() == 'exit':\n",
    "            print(\"Görüşmek üzere!\")\n",
    "            break\n",
    "\n",
    "        response = gpt3_chat(user_input)\n",
    "        print(\"GPT-3: \" + response)\n",
    "\n",
    "if __name__ == \"__main__\":\n",
    "    main()\n"
   ]
  }
 ],
 "metadata": {
  "kernelspec": {
   "display_name": "Python 3",
   "language": "python",
   "name": "python3"
  },
  "language_info": {
   "codemirror_mode": {
    "name": "ipython",
    "version": 3
   },
   "file_extension": ".py",
   "mimetype": "text/x-python",
   "name": "python",
   "nbconvert_exporter": "python",
   "pygments_lexer": "ipython3",
   "version": "3.8.5"
  }
 },
 "nbformat": 4,
 "nbformat_minor": 2
}
